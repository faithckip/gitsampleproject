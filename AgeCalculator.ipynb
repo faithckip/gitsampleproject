{
 "cells": [
  {
   "cell_type": "code",
   "execution_count": 1,
   "metadata": {},
   "outputs": [
    {
     "name": "stdout",
     "output_type": "stream",
     "text": [
      "38\n"
     ]
    }
   ],
   "source": [
    "from datetime import date\n",
    "birth_yr = int(input(\"Enter your Birth Year: \"))\n",
    "print(date.today().year - birth_yr)\n"
   ]
  }
 ],
 "metadata": {
  "kernelspec": {
   "display_name": "Python 3",
   "language": "python",
   "name": "python3"
  },
  "language_info": {
   "codemirror_mode": {
    "name": "ipython",
    "version": 3
   },
   "file_extension": ".py",
   "mimetype": "text/x-python",
   "name": "python",
   "nbconvert_exporter": "python",
   "pygments_lexer": "ipython3",
   "version": "3.10.9"
  },
  "orig_nbformat": 4,
  "vscode": {
   "interpreter": {
    "hash": "0c403297cc4a629e764b371b5778eb275bf7da9b3293b6b40d186d284885568c"
   }
  }
 },
 "nbformat": 4,
 "nbformat_minor": 2
}
